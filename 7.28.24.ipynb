{
 "cells": [
  {
   "cell_type": "code",
   "execution_count": null,
   "id": "9fade30f-12dd-4f2a-9b64-7a93c8949629",
   "metadata": {},
   "outputs": [],
   "source": [
    "#imports\n",
    "\n",
    "from qiskit_ionq import IonQProvider\n",
    "\n",
    "from qiskit import QuantumCircuit\n",
    "\n",
    "\n",
    "#hello many worlds\n",
    "\n",
    "qc = QuantumCircuit(2, 2)\n",
    "\n",
    "qc.h(0)\n",
    "\n",
    "qc.cx(0, 1)\n",
    "\n",
    "qc.measure([0, 1],[0, 1])\n",
    "\n",
    "\n",
    "#run on IonQ hardware\n",
    "\n",
    "ionq = provider.get_backend(\"ionq_simulator\")\n",
    "\n",
    "job = ionq.run(qc, shots=100)\n",
    "\n",
    "print(job.get_counts())"
   ]
  }
 ],
 "metadata": {
  "kernelspec": {
   "display_name": "",
   "name": ""
  },
  "language_info": {
   "name": ""
  }
 },
 "nbformat": 4,
 "nbformat_minor": 5
}
