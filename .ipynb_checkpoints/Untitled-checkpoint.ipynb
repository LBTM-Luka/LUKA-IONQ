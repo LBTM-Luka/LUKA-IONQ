{
 "cells": [
  {
   "cell_type": "code",
   "execution_count": 1,
   "id": "ceeac821-ab90-44dd-9294-fe0e712790d1",
   "metadata": {},
   "outputs": [
    {
     "ename": "ModuleNotFoundError",
     "evalue": "No module named 'qiskit_ionq'",
     "output_type": "error",
     "traceback": [
      "\u001b[0;31m---------------------------------------------------------------------------\u001b[0m",
      "\u001b[0;31mModuleNotFoundError\u001b[0m                       Traceback (most recent call last)",
      "Cell \u001b[0;32mIn[1], line 3\u001b[0m\n\u001b[1;32m      1\u001b[0m \u001b[38;5;66;03m#imports\u001b[39;00m\n\u001b[0;32m----> 3\u001b[0m \u001b[38;5;28;01mfrom\u001b[39;00m \u001b[38;5;21;01mqiskit_ionq\u001b[39;00m \u001b[38;5;28;01mimport\u001b[39;00m IonQProvider\n\u001b[1;32m      5\u001b[0m \u001b[38;5;28;01mfrom\u001b[39;00m \u001b[38;5;21;01mqiskit\u001b[39;00m \u001b[38;5;28;01mimport\u001b[39;00m QuantumCircuit\n\u001b[1;32m      8\u001b[0m \u001b[38;5;66;03m#hello many worlds\u001b[39;00m\n",
      "\u001b[0;31mModuleNotFoundError\u001b[0m: No module named 'qiskit_ionq'"
     ]
    }
   ],
   "source": [
    "#imports\n",
    "\n",
    "from qiskit_ionq import IonQProvider\n",
    "\n",
    "from qiskit import QuantumCircuit\n",
    "\n",
    "\n",
    "#hello many worlds\n",
    "\n",
    "qc = QuantumCircuit(2, 2)\n",
    "\n",
    "qc.h(0)\n",
    "\n",
    "qc.cx(0, 1)\n",
    "\n",
    "qc.measure([0, 1],[0, 1])\n",
    "\n",
    "\n",
    "#run on IonQ hardware\n",
    "\n",
    "ionq = provider.get_backend(\"ionq_simulator\")\n",
    "\n",
    "job = ionq.run(qc, shots=100)\n",
    "\n",
    "print(job.get_counts())"
   ]
  },
  {
   "cell_type": "code",
   "execution_count": null,
   "id": "74b1a40f-4218-407a-a465-a89b1451679a",
   "metadata": {},
   "outputs": [],
   "source": []
  }
 ],
 "metadata": {
  "kernelspec": {
   "display_name": "Python 3 (ipykernel)",
   "language": "python",
   "name": "python3"
  },
  "language_info": {
   "codemirror_mode": {
    "name": "ipython",
    "version": 3
   },
   "file_extension": ".py",
   "mimetype": "text/x-python",
   "name": "python",
   "nbconvert_exporter": "python",
   "pygments_lexer": "ipython3",
   "version": "3.10.13"
  }
 },
 "nbformat": 4,
 "nbformat_minor": 5
}
